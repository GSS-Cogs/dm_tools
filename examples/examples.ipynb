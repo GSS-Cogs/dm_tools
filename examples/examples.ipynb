{
 "cells": [
  {
   "cell_type": "code",
   "execution_count": 1,
   "metadata": {},
   "outputs": [],
   "source": [
    "# =============================================================================\n",
    "# Examples using methods in the COGS package dm_tools\n",
    "# =============================================================================\n",
    "# Packages needed:\n",
    "#    gssutils \n",
    "#    os\n",
    "#    pandas\n",
    "#    re\n",
    "#    Levenshtein\n",
    "#    fuzzywuzzy\n",
    "#    IPython.display\n",
    "# =============================================================================\n",
    "#  pip install --upgrade git+https://github.com/GSS-Cogs/dm_tools\n",
    "#  pip install git+https://github.com/GSS-Cogs/dm_tools\n",
    "# =============================================================================\n",
    "\n",
    "# This is Nerd free zone, do not change things just because you can, KISS\n",
    "import dmtools as dm\n",
    "import pandas as pd"
   ]
  },
  {
   "cell_type": "code",
   "execution_count": 2,
   "metadata": {},
   "outputs": [
    {
     "data": {
      "text/html": [
       "<div>\n",
       "<style scoped>\n",
       "    .dataframe tbody tr th:only-of-type {\n",
       "        vertical-align: middle;\n",
       "    }\n",
       "\n",
       "    .dataframe tbody tr th {\n",
       "        vertical-align: top;\n",
       "    }\n",
       "\n",
       "    .dataframe thead th {\n",
       "        text-align: right;\n",
       "    }\n",
       "</style>\n",
       "<table border=\"1\" class=\"dataframe\">\n",
       "  <thead>\n",
       "    <tr style=\"text-align: right;\">\n",
       "      <th></th>\n",
       "      <th>Value</th>\n",
       "      <th>Period</th>\n",
       "      <th>CDID</th>\n",
       "      <th>Estimate Type</th>\n",
       "      <th>Aggregate</th>\n",
       "    </tr>\n",
       "  </thead>\n",
       "  <tbody>\n",
       "    <tr>\n",
       "      <th>0</th>\n",
       "      <td>1919641</td>\n",
       "      <td>2015</td>\n",
       "      <td>YBHA</td>\n",
       "      <td>current-price</td>\n",
       "      <td>gross-domestic-product-at-market-prices</td>\n",
       "    </tr>\n",
       "    <tr>\n",
       "      <th>1</th>\n",
       "      <td>207569</td>\n",
       "      <td>2015</td>\n",
       "      <td>NTAP</td>\n",
       "      <td>current-price</td>\n",
       "      <td>less-basic-price-adjustment</td>\n",
       "    </tr>\n",
       "    <tr>\n",
       "      <th>2</th>\n",
       "      <td>1712072</td>\n",
       "      <td>2015</td>\n",
       "      <td>ABML</td>\n",
       "      <td>current-price</td>\n",
       "      <td>gross-value-added-at-basic-prices</td>\n",
       "    </tr>\n",
       "    <tr>\n",
       "      <th>3</th>\n",
       "      <td>2043909</td>\n",
       "      <td>2015</td>\n",
       "      <td>ABMI</td>\n",
       "      <td>current-price</td>\n",
       "      <td>gross-domestic-product-at-market-prices</td>\n",
       "    </tr>\n",
       "    <tr>\n",
       "      <th>4</th>\n",
       "      <td>221355</td>\n",
       "      <td>2015</td>\n",
       "      <td>NTAO</td>\n",
       "      <td>chained-volume-measure</td>\n",
       "      <td>less-basic-price-adjustment</td>\n",
       "    </tr>\n",
       "  </tbody>\n",
       "</table>\n",
       "</div>"
      ],
      "text/plain": [
       "     Value Period  CDID           Estimate Type  \\\n",
       "0  1919641   2015  YBHA           current-price   \n",
       "1   207569   2015  NTAP           current-price   \n",
       "2  1712072   2015  ABML           current-price   \n",
       "3  2043909   2015  ABMI           current-price   \n",
       "4   221355   2015  NTAO  chained-volume-measure   \n",
       "\n",
       "                                 Aggregate  \n",
       "0  gross-domestic-product-at-market-prices  \n",
       "1              less-basic-price-adjustment  \n",
       "2        gross-value-added-at-basic-prices  \n",
       "3  gross-domestic-product-at-market-prices  \n",
       "4              less-basic-price-adjustment  "
      ]
     },
     "execution_count": 2,
     "metadata": {},
     "output_type": "execute_result"
    }
   ],
   "source": [
    "# Pull in example data\n",
    "example_data_one = pd.read_csv('example_data_one.csv')\n",
    "example_data_one.head(5)"
   ]
  },
  {
   "cell_type": "code",
   "execution_count": 3,
   "metadata": {},
   "outputs": [
    {
     "data": {
      "text/html": [
       "<div>\n",
       "<style scoped>\n",
       "    .dataframe tbody tr th:only-of-type {\n",
       "        vertical-align: middle;\n",
       "    }\n",
       "\n",
       "    .dataframe tbody tr th {\n",
       "        vertical-align: top;\n",
       "    }\n",
       "\n",
       "    .dataframe thead th {\n",
       "        text-align: right;\n",
       "    }\n",
       "</style>\n",
       "<table border=\"1\" class=\"dataframe\">\n",
       "  <thead>\n",
       "    <tr style=\"text-align: right;\">\n",
       "      <th></th>\n",
       "      <th>Value</th>\n",
       "      <th>Period</th>\n",
       "      <th>CDID</th>\n",
       "      <th>Weights 2018</th>\n",
       "      <th>Sector</th>\n",
       "      <th>Industry</th>\n",
       "    </tr>\n",
       "  </thead>\n",
       "  <tbody>\n",
       "    <tr>\n",
       "      <th>0</th>\n",
       "      <td>103</td>\n",
       "      <td>2015</td>\n",
       "      <td>L2KL</td>\n",
       "      <td>6.0</td>\n",
       "      <td>agriculture</td>\n",
       "      <td>agriculture-forestry-fishing</td>\n",
       "    </tr>\n",
       "    <tr>\n",
       "      <th>1</th>\n",
       "      <td>96</td>\n",
       "      <td>2015</td>\n",
       "      <td>L2KR</td>\n",
       "      <td>11.0</td>\n",
       "      <td>production</td>\n",
       "      <td>mining-quarrying-including-oil-and-gas-extraction</td>\n",
       "    </tr>\n",
       "    <tr>\n",
       "      <th>2</th>\n",
       "      <td>96</td>\n",
       "      <td>2015</td>\n",
       "      <td>L2KX</td>\n",
       "      <td>101.0</td>\n",
       "      <td>production</td>\n",
       "      <td>manufacturing</td>\n",
       "    </tr>\n",
       "    <tr>\n",
       "      <th>3</th>\n",
       "      <td>99</td>\n",
       "      <td>2015</td>\n",
       "      <td>L2MW</td>\n",
       "      <td>14.0</td>\n",
       "      <td>production</td>\n",
       "      <td>electricity-gas-steam-and-air</td>\n",
       "    </tr>\n",
       "    <tr>\n",
       "      <th>4</th>\n",
       "      <td>93</td>\n",
       "      <td>2015</td>\n",
       "      <td>L2N2</td>\n",
       "      <td>13.0</td>\n",
       "      <td>production</td>\n",
       "      <td>water-supply-sewerage-etc</td>\n",
       "    </tr>\n",
       "  </tbody>\n",
       "</table>\n",
       "</div>"
      ],
      "text/plain": [
       "   Value Period  CDID  Weights 2018       Sector  \\\n",
       "0    103   2015  L2KL           6.0  agriculture   \n",
       "1     96   2015  L2KR          11.0   production   \n",
       "2     96   2015  L2KX         101.0   production   \n",
       "3     99   2015  L2MW          14.0   production   \n",
       "4     93   2015  L2N2          13.0   production   \n",
       "\n",
       "                                            Industry  \n",
       "0                       agriculture-forestry-fishing  \n",
       "1  mining-quarrying-including-oil-and-gas-extraction  \n",
       "2                                      manufacturing  \n",
       "3                      electricity-gas-steam-and-air  \n",
       "4                          water-supply-sewerage-etc  "
      ]
     },
     "execution_count": 3,
     "metadata": {},
     "output_type": "execute_result"
    }
   ],
   "source": [
    "# Pull in example data\n",
    "example_data_two = pd.read_csv('example_data_two.csv')\n",
    "example_data_two.head(5)"
   ]
  },
  {
   "cell_type": "code",
   "execution_count": 19,
   "metadata": {},
   "outputs": [],
   "source": [
    "# METHOD ONE\n",
    "#help('dmtools.display_dataset_unique_values')"
   ]
  },
  {
   "cell_type": "code",
   "execution_count": 5,
   "metadata": {},
   "outputs": [
    {
     "data": {
      "text/plain": [
       "'Period'"
      ]
     },
     "metadata": {},
     "output_type": "display_data"
    },
    {
     "data": {
      "text/plain": [
       "Index(['2015', '2015 Q1', '2015 Q2', '2015 Q3', '2015 Q4'], dtype='object')"
      ]
     },
     "metadata": {},
     "output_type": "display_data"
    },
    {
     "data": {
      "text/plain": [
       "'CDID'"
      ]
     },
     "metadata": {},
     "output_type": "display_data"
    },
    {
     "data": {
      "text/plain": [
       "Index(['ABMI', 'ABML', 'ABMM', 'KLS2', 'NTAO', 'NTAP', 'YBHA'], dtype='object')"
      ]
     },
     "metadata": {},
     "output_type": "display_data"
    },
    {
     "data": {
      "text/plain": [
       "'Estimate Type'"
      ]
     },
     "metadata": {},
     "output_type": "display_data"
    },
    {
     "data": {
      "text/plain": [
       "Index(['basic-prices', 'chained-volume-measure', 'current-price'], dtype='object')"
      ]
     },
     "metadata": {},
     "output_type": "display_data"
    },
    {
     "data": {
      "text/plain": [
       "'Aggregate'"
      ]
     },
     "metadata": {},
     "output_type": "display_data"
    },
    {
     "data": {
      "text/plain": [
       "Index(['gross-domestic-product-at-market-prices',\n",
       "       'gross-value-added-at-basic-prices',\n",
       "       'gross-value-added-excluding-oil-gas', 'less-basic-price-adjustment'],\n",
       "      dtype='object')"
      ]
     },
     "metadata": {},
     "output_type": "display_data"
    }
   ],
   "source": [
    "# Display unique values within each column (dimension), except the Value column\n",
    "dm.display_dataset_unique_values(example_data_one)"
   ]
  },
  {
   "cell_type": "code",
   "execution_count": null,
   "metadata": {},
   "outputs": [],
   "source": [
    "# METHOD TWO\n",
    "#help('dmtools.search_codelists_for_codes')"
   ]
  },
  {
   "cell_type": "code",
   "execution_count": 6,
   "metadata": {},
   "outputs": [
    {
     "name": "stdout",
     "output_type": "stream",
     "text": [
      "Search Directory: codelists/\n",
      "\n",
      "------------------------------------------------------------------\n",
      "Outputting File: aggregate-codelist-folder-search.csv with 7 rows\n",
      "In Folder: aggregate-codelist-analysis\n",
      "------------------------------------------------------------------\n",
      "------------------------------------------------------------------\n",
      "Outputting File: aggregate-codelist-folder-search-percentage-split.csv with 7 rows\n",
      "In Folder: aggregate-codelist-analysis\n",
      "------------------------------------------------------------------\n"
     ]
    },
    {
     "data": {
      "text/plain": [
       "'national-accounts-aggregate.csv'"
      ]
     },
     "execution_count": 6,
     "metadata": {},
     "output_type": "execute_result"
    }
   ],
   "source": [
    "# Takes a codelists list of codes and checks to see if they are in any codelist csv files, codelist folder address passed\n",
    "dimension = 'Aggregate'                                           # Column you want to look at\n",
    "codes = example_data_one[dimension].unique()                      # The unique set of values within the column\n",
    "fldrpth = 'codelists/'                                            # Path to the codelist folder, eg: 'users/leigh/development/family-trade/reference/codelists/'\n",
    "colnme = 'Notation'                                               # Which column of each codelist to compare to\n",
    "dm.search_codelists_for_codes(codes, fldrpth, colnme, dimension)"
   ]
  },
  {
   "cell_type": "code",
   "execution_count": 7,
   "metadata": {},
   "outputs": [],
   "source": [
    "# METHOD THREE\n",
    "#help('dmtools.check_all_codes_in_codelist')"
   ]
  },
  {
   "cell_type": "code",
   "execution_count": 8,
   "metadata": {},
   "outputs": [
    {
     "name": "stdout",
     "output_type": "stream",
     "text": [
      "Search File: codelists/national-accounts-estimate-type.csv\n",
      "\n",
      "------------------------------------------------------------------\n",
      "Outputting File: estimatetype-codelist-search.csv with 3 rows\n",
      "In Folder: estimatetype-codelist-analysis\n",
      "------------------------------------------------------------------\n"
     ]
    }
   ],
   "source": [
    "# Takes a unique list of codes and checks to see if they are in any a particular codelist csv files, make sure to pass the path to the actual csv file\n",
    "dimension = 'Estimate Type'                                       # Column you want to look at\n",
    "codes = example_data_one[dimension].unique()                      # The unique set of values within the column\n",
    "filepth = 'codelists/national-accounts-estimate-type.csv'         # Path to the codelist file\n",
    "colnme = 'Notation'                                               # Which column of each codelist to compare to\n",
    "outputfoundcodes = True                                           # Output all results (True) or just found codes (False)\n",
    "dm.check_all_codes_in_codelist(codes, filepth, colnme, dimension, outputfoundcodes)"
   ]
  },
  {
   "cell_type": "code",
   "execution_count": 9,
   "metadata": {},
   "outputs": [],
   "source": [
    "# METHOD FOUR\n",
    "#help('dmtools.search_for_codes_using_levenshtein_and_fuzzywuzzy')"
   ]
  },
  {
   "cell_type": "code",
   "execution_count": 11,
   "metadata": {},
   "outputs": [
    {
     "name": "stdout",
     "output_type": "stream",
     "text": [
      "------------------------------------------------------------------\n",
      "Searching in Codelist Directory: codelists/\n",
      "in Column: Notation\n",
      "Levenshtein Distance set to : 3\n",
      "Levenshtein Ratio set to : 0.8\n",
      "FuzzyWuzzy Ratio set to : 80.0\n",
      "------------------------------------------------------------------\n",
      "------------------------------------------------------------------\n",
      "Outputting File: sector-dimension-levenshtein.csv with 20 rows\n",
      "In Folder: sector-codelist-analysis\n",
      "------------------------------------------------------------------\n"
     ]
    }
   ],
   "source": [
    "dimension = 'Sector'\n",
    "codes = example_data_two[dimension].unique()\n",
    "pth = 'codelists/'\n",
    "colnme = 'Notation'\n",
    "setDistance = 3\n",
    "setRatio = 0.8\n",
    "dm.search_for_codes_using_levenshtein_and_fuzzywuzzy(codes, pth, colnme, dimension, setDistance, setRatio)"
   ]
  },
  {
   "cell_type": "code",
   "execution_count": null,
   "metadata": {},
   "outputs": [],
   "source": [
    "# METHOD FIVE\n",
    "#help('dmtools.search_codes_in_codelists_and_then_search_highest_scoring_codelist_file')"
   ]
  },
  {
   "cell_type": "code",
   "execution_count": 12,
   "metadata": {},
   "outputs": [
    {
     "name": "stdout",
     "output_type": "stream",
     "text": [
      "Seaching codelist folder for codes\n",
      "************************************************************************\n",
      "Search Directory: codelists/\n",
      "\n",
      "------------------------------------------------------------------\n",
      "Outputting File: estimatetype-codelist-folder-search.csv with 2 rows\n",
      "In Folder: estimatetype-codelist-analysis\n",
      "------------------------------------------------------------------\n",
      "------------------------------------------------------------------\n",
      "Outputting File: estimatetype-codelist-folder-search-percentage-split.csv with 2 rows\n",
      "In Folder: estimatetype-codelist-analysis\n",
      "------------------------------------------------------------------\n",
      "************************************************************************\n",
      "Seaching codes against codelist file: national-accounts-estimate-type.csv\n",
      "Search File: codelists/national-accounts-estimate-type.csv\n",
      "\n",
      "------------------------------------------------------------------\n",
      "Outputting File: estimatetype-codelist-search.csv with 3 rows\n",
      "In Folder: estimatetype-codelist-analysis\n",
      "------------------------------------------------------------------\n",
      "************************************************************************\n"
     ]
    }
   ],
   "source": [
    "# Combines 2 other methods: search_codelists_for_codes & check_all_codes_in_codelist\n",
    "dimension = 'Estimate Type'                                       # Column you want to look at\n",
    "codes = example_data_one[dimension].unique()                      # The unique set of values within the column\n",
    "filepth = 'codelists/'                                            # Path to the codeliss file\n",
    "colnme = 'Notation'                                               # Which column of each codelist to compare to\n",
    "outputfoundcodes = True \n",
    "dm.search_codes_in_codelists_and_then_search_highest_scoring_codelist_file(codes, filepth, colnme, dimension, outputfoundcodes)"
   ]
  },
  {
   "cell_type": "code",
   "execution_count": 17,
   "metadata": {},
   "outputs": [
    {
     "name": "stdout",
     "output_type": "stream",
     "text": [
      "Help on function check_all_codes_in_codelist in dmtools:\n",
      "\n",
      "dmtools.check_all_codes_in_codelist = check_all_codes_in_codelist(codes, pth, colnme, dimension, outputfoundcodes)\n",
      "    CHECK IF ALL YOUR DIMENSION VALUES (CODES) ARE IN A SPECIFIC CODELIST\n",
      "    This methods takes a unique list of values (codes) and checks to see if they are in a specific csv codelist file (pth), column from file is sleected with colnme.\n",
      "    the dimension variable is used to name the resulting file, which lists if the code has been found or not, it also looks for any Nan values.\n",
      "    Once the search has completed it creates a folder called {dimension}-codelist-analysis within your current directory and saves a file called {dimension}-code-search.csv,\n",
      "    that lists the results of the search (Columns = Dataset Codes, Codelist Codes, Result: {Found, NOT FOUND, ITS A NAN})\n",
      "    This methods takes as its arguments:\n",
      "        codes: A list of unique values taken from a datasets column within a transform\n",
      "        pth: This is the path to the csv odelist file you want to search through\n",
      "        colnme: This is the column within each codelist to want to search through\n",
      "        dimension: This is the name of the dimension for naming output files\n",
      "        outputfoundcodes: If True then output all found code results to csv file, if False do not output found codes.\n",
      "\n"
     ]
    }
   ],
   "source": [
    "#help('dmtools')\n",
    "help('dmtools.check_all_codes_in_codelist')"
   ]
  },
  {
   "cell_type": "code",
   "execution_count": null,
   "metadata": {},
   "outputs": [],
   "source": [
    "#pip install --upgrade git+https://github.com/GSS-Cogs/dm_tools"
   ]
  },
  {
   "cell_type": "code",
   "execution_count": null,
   "metadata": {},
   "outputs": [],
   "source": [
    "#pip uninstall dmtools --yes "
   ]
  },
  {
   "cell_type": "code",
   "execution_count": null,
   "metadata": {},
   "outputs": [],
   "source": []
  },
  {
   "cell_type": "code",
   "execution_count": null,
   "metadata": {},
   "outputs": [],
   "source": []
  }
 ],
 "metadata": {
  "kernelspec": {
   "display_name": "Python 3",
   "language": "python",
   "name": "python3"
  },
  "language_info": {
   "codemirror_mode": {
    "name": "ipython",
    "version": 3
   },
   "file_extension": ".py",
   "mimetype": "text/x-python",
   "name": "python",
   "nbconvert_exporter": "python",
   "pygments_lexer": "ipython3",
   "version": "3.7.6"
  }
 },
 "nbformat": 4,
 "nbformat_minor": 2
}
