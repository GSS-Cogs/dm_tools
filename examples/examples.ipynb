{
 "cells": [
  {
   "cell_type": "code",
   "execution_count": 28,
   "metadata": {},
   "outputs": [],
   "source": [
    "# Examples on method use for package dm_tools\n",
    "# Packages needed:\n",
    "#    gssutils \n",
    "#    os\n",
    "#    pandas\n",
    "#    Levenshtein\n",
    "#    fuzzywuzzy\n",
    "#    IPython.display\n",
    "    \n",
    "# This is Nerd free zone, do not change things just because you can, KISS\n",
    "import dmtools as dm\n",
    "import pandas as pd"
   ]
  },
  {
   "cell_type": "code",
   "execution_count": 29,
   "metadata": {},
   "outputs": [
    {
     "data": {
      "text/html": [
       "<div>\n",
       "<style scoped>\n",
       "    .dataframe tbody tr th:only-of-type {\n",
       "        vertical-align: middle;\n",
       "    }\n",
       "\n",
       "    .dataframe tbody tr th {\n",
       "        vertical-align: top;\n",
       "    }\n",
       "\n",
       "    .dataframe thead th {\n",
       "        text-align: right;\n",
       "    }\n",
       "</style>\n",
       "<table border=\"1\" class=\"dataframe\">\n",
       "  <thead>\n",
       "    <tr style=\"text-align: right;\">\n",
       "      <th></th>\n",
       "      <th>Value</th>\n",
       "      <th>Period</th>\n",
       "      <th>CDID</th>\n",
       "      <th>Estimate Type</th>\n",
       "      <th>Aggregate</th>\n",
       "    </tr>\n",
       "  </thead>\n",
       "  <tbody>\n",
       "    <tr>\n",
       "      <th>0</th>\n",
       "      <td>1919641</td>\n",
       "      <td>2015</td>\n",
       "      <td>YBHA</td>\n",
       "      <td>current-price</td>\n",
       "      <td>gross-domestic-product-at-market-prices</td>\n",
       "    </tr>\n",
       "    <tr>\n",
       "      <th>1</th>\n",
       "      <td>207569</td>\n",
       "      <td>2015</td>\n",
       "      <td>NTAP</td>\n",
       "      <td>current-price</td>\n",
       "      <td>less-basic-price-adjustment</td>\n",
       "    </tr>\n",
       "  </tbody>\n",
       "</table>\n",
       "</div>"
      ],
      "text/plain": [
       "     Value Period  CDID  Estimate Type  \\\n",
       "0  1919641   2015  YBHA  current-price   \n",
       "1   207569   2015  NTAP  current-price   \n",
       "\n",
       "                                 Aggregate  \n",
       "0  gross-domestic-product-at-market-prices  \n",
       "1              less-basic-price-adjustment  "
      ]
     },
     "execution_count": 29,
     "metadata": {},
     "output_type": "execute_result"
    }
   ],
   "source": [
    "# Pull in example data\n",
    "example_data_one = pd.read_csv('example_data_one.csv')\n",
    "example_data_one.head(5)"
   ]
  },
  {
   "cell_type": "code",
   "execution_count": 30,
   "metadata": {},
   "outputs": [],
   "source": [
    "# METHOD ONE"
   ]
  },
  {
   "cell_type": "code",
   "execution_count": 31,
   "metadata": {},
   "outputs": [
    {
     "data": {
      "text/plain": [
       "'Period'"
      ]
     },
     "metadata": {},
     "output_type": "display_data"
    },
    {
     "data": {
      "text/plain": [
       "Index(['2015', '2015 Q1', '2015 Q2', '2015 Q3', '2015 Q4'], dtype='object')"
      ]
     },
     "metadata": {},
     "output_type": "display_data"
    },
    {
     "data": {
      "text/plain": [
       "'CDID'"
      ]
     },
     "metadata": {},
     "output_type": "display_data"
    },
    {
     "data": {
      "text/plain": [
       "Index(['ABMI', 'ABML', 'ABMM', 'KLS2', 'NTAO', 'NTAP', 'YBHA'], dtype='object')"
      ]
     },
     "metadata": {},
     "output_type": "display_data"
    },
    {
     "data": {
      "text/plain": [
       "'Estimate Type'"
      ]
     },
     "metadata": {},
     "output_type": "display_data"
    },
    {
     "data": {
      "text/plain": [
       "Index(['basic-prices', 'chained-volume-measure', 'current-price'], dtype='object')"
      ]
     },
     "metadata": {},
     "output_type": "display_data"
    },
    {
     "data": {
      "text/plain": [
       "'Aggregate'"
      ]
     },
     "metadata": {},
     "output_type": "display_data"
    },
    {
     "data": {
      "text/plain": [
       "Index(['gross-domestic-product-at-market-prices',\n",
       "       'gross-value-added-at-basic-prices',\n",
       "       'gross-value-added-excluding-oil-gas', 'less-basic-price-adjustment'],\n",
       "      dtype='object')"
      ]
     },
     "metadata": {},
     "output_type": "display_data"
    }
   ],
   "source": [
    "# Display unique values within each column (dimension), except the Value column\n",
    "dm.display_dataset_unique_values(example_data_one)"
   ]
  },
  {
   "cell_type": "code",
   "execution_count": 32,
   "metadata": {},
   "outputs": [],
   "source": [
    "# METHOD TWO"
   ]
  },
  {
   "cell_type": "code",
   "execution_count": 33,
   "metadata": {},
   "outputs": [
    {
     "name": "stdout",
     "output_type": "stream",
     "text": [
      "Search Directory: codelists/\n",
      "\n",
      "'Notation'\n"
     ]
    }
   ],
   "source": [
    "# Takes a unique list of codes and checks to see if they are in any codelist csv files, codelist folder address passed\n",
    "dimension = 'Aggregate'                                           # Column you want to look at\n",
    "codes = example_data_one[dimension].unique()                      # The unique set of values within the column\n",
    "fldrpth = 'codelists/'                                            # Path to the codelist folder\n",
    "colnme = 'Notation'                                               # Which column of each codelist to compare to\n",
    "dm.search_codelists_for_codes(codes, fldrpth, colnme, dimension)"
   ]
  },
  {
   "cell_type": "code",
   "execution_count": 34,
   "metadata": {},
   "outputs": [],
   "source": [
    "# METHOD THREE"
   ]
  },
  {
   "cell_type": "code",
   "execution_count": 35,
   "metadata": {},
   "outputs": [
    {
     "name": "stdout",
     "output_type": "stream",
     "text": [
      "Search File: codelists/national-accounts-estimate-type.csv\n",
      "\n"
     ]
    }
   ],
   "source": [
    "# Takes a unique list of codes and checks to see if they are in any a particular codelist csv files, make sure to pass the path to the actual csv file\n",
    "dimension = 'Estimate Type'                                       # Column you want to look at\n",
    "codes = example_data_one[dimension].unique()                      # The unique set of values within the column\n",
    "filepth = 'codelists/national-accounts-estimate-type.csv'         # Path to the codeliss file\n",
    "colnme = 'Notation'                                               # Which column of each codelist to compare to\n",
    "outputfoundcodes = True                                           # Output all results (True) or just found codes (False)\n",
    "dm.check_all_codes_in_codelist(codes, filepth, colnme, dimension, outputfoundcodes)"
   ]
  },
  {
   "cell_type": "code",
   "execution_count": null,
   "metadata": {},
   "outputs": [],
   "source": [
    "# METHOD FOUR"
   ]
  },
  {
   "cell_type": "code",
   "execution_count": null,
   "metadata": {},
   "outputs": [],
   "source": [
    "dm.search_for_codes_using_levenshtein_and_fuzzywuzzy(codes, pth, colnme, dimension, setDistance, setRatio)"
   ]
  },
  {
   "cell_type": "code",
   "execution_count": 3,
   "metadata": {},
   "outputs": [
    {
     "name": "stdout",
     "output_type": "stream",
     "text": [
      "Help on package dmtools:\n",
      "\n",
      "NAME\n",
      "    dmtools\n",
      "\n",
      "PACKAGE CONTENTS\n",
      "\n",
      "\n",
      "FUNCTIONS\n",
      "    check_all_codes_in_codelist(codes, pth, colnme, dimension, outputfoundcodes)\n",
      "        CHECK IF ALL YOUR DIMENSION VALUES (CODES) ARE IN A SPECIFIC CODELIST\n",
      "        This methods takes a unique list of values (codes) and checks to see if they are in a specific csv codelist file (pth), column from file is sleected with colnme.\n",
      "        the dimension variable is used to name the resulting file, which lists if the code has been found or not, it also looks for any Nan values.\n",
      "        Once the search has completed it creates a folder called {dimension}-codelist-analysis within your current directory and saves a file called {dimension}-code-search.csv,\n",
      "        that lists the results of the search (Columns = Dataset Codes, Codelist Codes, Result: {Found, NOT FOUND, ITS A NAN})\n",
      "        This methods takes as its arguments:\n",
      "            codes: A list of unique values taken from a datasets column within a transform\n",
      "            pth: This is the path to the csv odelist file you want to search through\n",
      "            colnme: This is the column within each codelist to want to search through\n",
      "            dimension: This is the name of the dimension for naming output files\n",
      "            outputfoundcodes: If True then output all found code results to csv file, if False do not output found codes.\n",
      "    \n",
      "    display_dataset_unique_values(dataset)\n",
      "        Displays all the unique values in each column of a dataset ignoring any column called Value\n",
      "    \n",
      "    search_codelists_for_codes(codes, pth, colnme, dimension)\n",
      "        CHECK IF ANY OF YOUR DIMENSION VALUES (CODES) ARE ALREADY DEFINED IN A CODELIST(S)\n",
      "        This method searches through a directory of codelist csv files looking for instances of each value within the passed unique list (codes).\n",
      "        It records in what file it finds the instance and outputs a csv file with a list of the codes, the file it found it in and the number of times it was found.\n",
      "        It also outputs a csv file giving the percentage split between the files where codes were found.\n",
      "        Once the search has completed it creates a folder called {dimension}-codelist-analysis within your current directory and saves files called:\n",
      "             1. {dimension}-code-search.csv (Columns = Code, Filename, Count)\n",
      "             2. {dimension}-percentage-split.csv (Columns = Filename, Counts, Percentage)\n",
      "        Method assumes directory only has files with extensions .csv and .csv-metadata.json.\n",
      "        This methods takes as its arguments:\n",
      "            codes: A list of unique values taken from a datasets column within a transform\n",
      "            pth: This is the path to the codelists you want to search through\n",
      "            colnme: This is the column within each codelist to want to search through\n",
      "            dimension: This is the name of the dimension for naming output files\n",
      "    \n",
      "    search_for_codes_using_levenshtein_and_fuzzywuzzy(codes, pth, colnme, dimension, setDistance, setRatio)\n",
      "        Use Levenshtein and FuzzyWuzzy packages to fuzzy match codes with all codelists within a directory. Only output results based on values passed in setDistance and setRatio\n",
      "        This method searches through a directory of codelist csv files comparing each code within the a codelists the each of the passed code values.\n",
      "        It records in what file it finds the instance and outputs a csv file with a list of the codes, the file it found it in and the number of times it was found.\n",
      "        It also outputs a csv file giving the percentage split between the files where codes were found.\n",
      "        Once the search has completed it creates a folder called {dimension}-codelist-levenshtein-fuzzy within your current directory and creates a file called:\n",
      "             1. {dimension}-dimension-levenshtein.csv (Columns = Source Code, Codelist Code, Filename, Distance, Ratio, Token Sort Ratio, Token Set Ratio, Partial Ratio)\n",
      "        Method assumes directory only has files with extensions .csv and .csv-metadata.json.\n",
      "        This methods takes as its arguments:\n",
      "            codes: A list of unique values taken from a datasets column within a transform\n",
      "            pth: This is the path to the codelists you want to search through\n",
      "            colnme: This is the column within each codelist to want to search through\n",
      "            dimension: This is the name of the dimension for naming output files\n",
      "            setDistance: How many changes have to be made to the codelist code so it matches the source code (set as 'less than or equal to' (<=)) . I use a value of 3\n",
      "            setRatio: What ratio of similarity should the match attain (set to 'more than or equal to' in the code (>=)). I use a value of 0.7 or 0.8\n",
      "        \n",
      "        Output Results\n",
      "            Distance:\n",
      "                Represents how many edits you would have to make to the codelist string to match it to the passed code string, this also includes lower and upper case changes\n",
      "            Ratio:\n",
      "                This represents how similar the strings are to each other\n",
      "            Token Sort Ratio:\n",
      "                This represents how similar both strings are when they are changed to lowercase, punctuation has been removed and remaining characters sorted alphabetically  \n",
      "            Token Set Ratio:\n",
      "                Can be used to see if differing strings have the same meaning\n",
      "            Partial Ratio:\n",
      "                This represents if both codes have any matching substrings\n",
      "\n",
      "FILE\n",
      "    /Users/leigh/anaconda3/lib/python3.7/site-packages/dmtools/__init__.py\n",
      "\n",
      "\n"
     ]
    },
    {
     "ename": "NameError",
     "evalue": "name 'dm' is not defined",
     "output_type": "error",
     "traceback": [
      "\u001b[0;31m---------------------------------------------------------------------------\u001b[0m",
      "\u001b[0;31mNameError\u001b[0m                                 Traceback (most recent call last)",
      "\u001b[0;32m<ipython-input-3-2d9dd1c3bfdb>\u001b[0m in \u001b[0;36m<module>\u001b[0;34m\u001b[0m\n\u001b[1;32m      1\u001b[0m \u001b[0mhelp\u001b[0m\u001b[0;34m(\u001b[0m\u001b[0;34m'dmtools'\u001b[0m\u001b[0;34m)\u001b[0m\u001b[0;34m\u001b[0m\u001b[0;34m\u001b[0m\u001b[0m\n\u001b[1;32m      2\u001b[0m \u001b[0;34m\u001b[0m\u001b[0m\n\u001b[0;32m----> 3\u001b[0;31m \u001b[0mdm\u001b[0m\u001b[0;34m.\u001b[0m\u001b[0mcheck_all_codes_in_codelist\u001b[0m\u001b[0;34m(\u001b[0m\u001b[0mcodes\u001b[0m\u001b[0;34m,\u001b[0m \u001b[0mpth\u001b[0m\u001b[0;34m,\u001b[0m \u001b[0mcolnme\u001b[0m\u001b[0;34m,\u001b[0m \u001b[0mdimension\u001b[0m\u001b[0;34m,\u001b[0m \u001b[0moutputfoundcodes\u001b[0m\u001b[0;34m)\u001b[0m\u001b[0;34m\u001b[0m\u001b[0;34m\u001b[0m\u001b[0m\n\u001b[0m\u001b[1;32m      4\u001b[0m \u001b[0mdm\u001b[0m\u001b[0;34m.\u001b[0m\u001b[0msearch_for_codes_using_levenshtein_and_fuzzywuzzy\u001b[0m\u001b[0;34m(\u001b[0m\u001b[0mcodes\u001b[0m\u001b[0;34m,\u001b[0m \u001b[0mpth\u001b[0m\u001b[0;34m,\u001b[0m \u001b[0mcolnme\u001b[0m\u001b[0;34m,\u001b[0m \u001b[0mdimension\u001b[0m\u001b[0;34m,\u001b[0m \u001b[0msetDistance\u001b[0m\u001b[0;34m,\u001b[0m \u001b[0msetRatio\u001b[0m\u001b[0;34m)\u001b[0m\u001b[0;34m\u001b[0m\u001b[0;34m\u001b[0m\u001b[0m\n\u001b[1;32m      5\u001b[0m \u001b[0mdm\u001b[0m\u001b[0;34m.\u001b[0m\u001b[0mdisplay_dataset_unique_values\u001b[0m\u001b[0;34m(\u001b[0m\u001b[0mdataset\u001b[0m\u001b[0;34m)\u001b[0m\u001b[0;34m\u001b[0m\u001b[0;34m\u001b[0m\u001b[0m\n",
      "\u001b[0;31mNameError\u001b[0m: name 'dm' is not defined"
     ]
    }
   ],
   "source": [
    "help('dmtools')\n",
    "\n",
    "#dm.check_all_codes_in_codelist(codes, pth, colnme, dimension, outputfoundcodes)\n",
    "dm.search_for_codes_using_levenshtein_and_fuzzywuzzy(codes, pth, colnme, dimension, setDistance, setRatio)\n",
    "#dm.display_dataset_unique_values(dataset)\n",
    "#dm.search_codelists_for_codes(codes, pth, colnme, dimension)"
   ]
  },
  {
   "cell_type": "code",
   "execution_count": null,
   "metadata": {},
   "outputs": [],
   "source": []
  }
 ],
 "metadata": {
  "kernelspec": {
   "display_name": "Python 3",
   "language": "python",
   "name": "python3"
  },
  "language_info": {
   "codemirror_mode": {
    "name": "ipython",
    "version": 3
   },
   "file_extension": ".py",
   "mimetype": "text/x-python",
   "name": "python",
   "nbconvert_exporter": "python",
   "pygments_lexer": "ipython3",
   "version": "3.7.6"
  }
 },
 "nbformat": 4,
 "nbformat_minor": 2
}
