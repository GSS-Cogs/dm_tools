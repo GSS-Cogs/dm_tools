{
 "cells": [
  {
   "cell_type": "code",
   "execution_count": null,
   "metadata": {},
   "outputs": [],
   "source": [
    "# =============================================================================\n",
    "# Examples using methods in the COGS package dm_tools\n",
    "# =============================================================================\n",
    "# Packages needed:\n",
    "#    gssutils \n",
    "#    os\n",
    "#    pandas\n",
    "#    re\n",
    "#    Levenshtein\n",
    "#    fuzzywuzzy\n",
    "#    IPython.display\n",
    "# =============================================================================\n",
    "#  pip install --upgrade git+https://github.com/GSS-Cogs/dm_tools\n",
    "#  pip install git+https://github.com/GSS-Cogs/dm_tools\n",
    "# =============================================================================\n",
    "\n",
    "# This is Nerd free zone, do not change things just because you can, KISS\n",
    "import dmtools as dm\n",
    "import pandas as pd"
   ]
  },
  {
   "cell_type": "code",
   "execution_count": null,
   "metadata": {},
   "outputs": [],
   "source": [
    "# Pull in example data\n",
    "example_data_one = pd.read_csv('example_data_one.csv')\n",
    "example_data_one.head(5)"
   ]
  },
  {
   "cell_type": "code",
   "execution_count": null,
   "metadata": {},
   "outputs": [],
   "source": [
    "# Pull in example data\n",
    "example_data_two = pd.read_csv('example_data_two.csv')\n",
    "example_data_two.head(5)"
   ]
  },
  {
   "cell_type": "code",
   "execution_count": null,
   "metadata": {},
   "outputs": [],
   "source": [
    "# METHOD ONE"
   ]
  },
  {
   "cell_type": "code",
   "execution_count": null,
   "metadata": {},
   "outputs": [],
   "source": [
    "# Display unique values within each column (dimension), except the Value column\n",
    "dm.display_dataset_unique_values(example_data_one)"
   ]
  },
  {
   "cell_type": "code",
   "execution_count": null,
   "metadata": {},
   "outputs": [],
   "source": [
    "# METHOD TWO"
   ]
  },
  {
   "cell_type": "code",
   "execution_count": null,
   "metadata": {},
   "outputs": [],
   "source": [
    "# Takes a ucodelists/nique list of codes and checks to see if they are in any codelist csv files, codelist folder address passed\n",
    "dimension = 'Aggregate'                                           # Column you want to look at\n",
    "codes = example_data_one[dimension].unique()                      # The unique set of values within the column\n",
    "fldrpth = 'codelists/'                                            # Path to the codelist folder, eg: 'users/leigh/development/family-trade/reference/codelists/'\n",
    "colnme = 'Notation'                                               # Which column of each codelist to compare to\n",
    "dm.search_codelists_for_codes(codes, fldrpth, colnme, dimension)"
   ]
  },
  {
   "cell_type": "code",
   "execution_count": null,
   "metadata": {},
   "outputs": [],
   "source": [
    "# METHOD THREE"
   ]
  },
  {
   "cell_type": "code",
   "execution_count": null,
   "metadata": {},
   "outputs": [],
   "source": [
    "# Takes a unique list of codes and checks to see if they are in any a particular codelist csv files, make sure to pass the path to the actual csv file\n",
    "dimension = 'Estimate Type'                                       # Column you want to look at\n",
    "codes = example_data_one[dimension].unique()                      # The unique set of values within the column\n",
    "filepth = 'codelists/national-accounts-estimate-type.csv'         # Path to the codeliss file\n",
    "colnme = 'Notation'                                               # Which column of each codelist to compare to\n",
    "outputfoundcodes = True                                           # Output all results (True) or just found codes (False)\n",
    "dm.check_all_codes_in_codelist(codes, filepth, colnme, dimension, outputfoundcodes)"
   ]
  },
  {
   "cell_type": "code",
   "execution_count": null,
   "metadata": {},
   "outputs": [],
   "source": [
    "# METHOD FOUR"
   ]
  },
  {
   "cell_type": "code",
   "execution_count": null,
   "metadata": {},
   "outputs": [],
   "source": [
    "dimension = 'Sector'\n",
    "codes = example_data_two[dimension].unique()\n",
    "pth = 'codelists/'\n",
    "colnme = 'Notation'\n",
    "setDistance = 3\n",
    "setRatio = 0.8\n",
    "dm.search_for_codes_using_levenshtein_and_fuzzywuzzy(codes, pth, colnme, dimension, setDistance, setRatio)"
   ]
  },
  {
   "cell_type": "code",
   "execution_count": null,
   "metadata": {},
   "outputs": [],
   "source": [
    "# METHOD FIVE"
   ]
  },
  {
   "cell_type": "code",
   "execution_count": null,
   "metadata": {},
   "outputs": [],
   "source": [
    "# Combines 2 other methods: search_codelists_for_codes & check_all_codes_in_codelist\n",
    "dimension = 'Estimate Type'                                       # Column you want to look at\n",
    "codes = example_data_one[dimension].unique()                      # The unique set of values within the column\n",
    "filepth = 'codelists/'                                            # Path to the codeliss file\n",
    "colnme = 'Notation'                                               # Which column of each codelist to compare to\n",
    "outputfoundcodes = True \n",
    "dm.search_codes_in_codelists_and_then_search_highest_scoring_codelist_file(codes, filepth, colnme, dimension, outputfoundcodes)"
   ]
  },
  {
   "cell_type": "code",
   "execution_count": null,
   "metadata": {},
   "outputs": [],
   "source": [
    "help('dmtools')"
   ]
  },
  {
   "cell_type": "code",
   "execution_count": null,
   "metadata": {},
   "outputs": [],
   "source": [
    "#pip install --upgrade git+https://github.com/GSS-Cogs/dm_tools"
   ]
  },
  {
   "cell_type": "code",
   "execution_count": null,
   "metadata": {},
   "outputs": [],
   "source": [
    "#pip uninstall dmtools --yes "
   ]
  },
  {
   "cell_type": "code",
   "execution_count": null,
   "metadata": {},
   "outputs": [],
   "source": []
  },
  {
   "cell_type": "code",
   "execution_count": null,
   "metadata": {},
   "outputs": [],
   "source": []
  }
 ],
 "metadata": {
  "kernelspec": {
   "display_name": "Python 3",
   "language": "python",
   "name": "python3"
  },
  "language_info": {
   "codemirror_mode": {
    "name": "ipython",
    "version": 3
   },
   "file_extension": ".py",
   "mimetype": "text/x-python",
   "name": "python",
   "nbconvert_exporter": "python",
   "pygments_lexer": "ipython3",
   "version": "3.7.6"
  }
 },
 "nbformat": 4,
 "nbformat_minor": 2
}
