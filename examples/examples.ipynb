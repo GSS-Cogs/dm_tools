{
 "cells": [
  {
   "cell_type": "code",
   "execution_count": 1,
   "metadata": {},
   "outputs": [],
   "source": [
    "# =============================================================================\n",
    "# Examples using methods in the COGS package dm_tools\n",
    "# =============================================================================\n",
    "# Packages needed:\n",
    "#    gssutils \n",
    "#    os\n",
    "#    pandas\n",
    "#    re\n",
    "#    Levenshtein\n",
    "#    fuzzywuzzy\n",
    "#    IPython.display\n",
    "# =============================================================================\n",
    "#  pip install --upgrade git+https://github.com/GSS-Cogs/dm_tools\n",
    "#  pip install git+https://github.com/GSS-Cogs/dm_tools\n",
    "# =============================================================================\n",
    "\n",
    "# This is Nerd free zone, do not change things just because you can, KISS\n",
    "import dmtools as dm\n",
    "import pandas as pd\n",
    "from gssutils import *\n",
    "import numpy as np"
   ]
  },
  {
   "cell_type": "code",
   "execution_count": 2,
   "metadata": {},
   "outputs": [
    {
     "data": {
      "text/html": [
       "<div>\n",
       "<style scoped>\n",
       "    .dataframe tbody tr th:only-of-type {\n",
       "        vertical-align: middle;\n",
       "    }\n",
       "\n",
       "    .dataframe tbody tr th {\n",
       "        vertical-align: top;\n",
       "    }\n",
       "\n",
       "    .dataframe thead th {\n",
       "        text-align: right;\n",
       "    }\n",
       "</style>\n",
       "<table border=\"1\" class=\"dataframe\">\n",
       "  <thead>\n",
       "    <tr style=\"text-align: right;\">\n",
       "      <th></th>\n",
       "      <th>Value</th>\n",
       "      <th>Period</th>\n",
       "      <th>CDID</th>\n",
       "      <th>Estimate Type</th>\n",
       "      <th>Aggregate</th>\n",
       "    </tr>\n",
       "  </thead>\n",
       "  <tbody>\n",
       "    <tr>\n",
       "      <th>0</th>\n",
       "      <td>1919641</td>\n",
       "      <td>2015</td>\n",
       "      <td>YBHA</td>\n",
       "      <td>current-price</td>\n",
       "      <td>gross-domestic-product-at-market-prices</td>\n",
       "    </tr>\n",
       "    <tr>\n",
       "      <th>1</th>\n",
       "      <td>207569</td>\n",
       "      <td>2015</td>\n",
       "      <td>NTAP</td>\n",
       "      <td>current-price</td>\n",
       "      <td>less-basic-price-adjustment</td>\n",
       "    </tr>\n",
       "    <tr>\n",
       "      <th>2</th>\n",
       "      <td>1712072</td>\n",
       "      <td>2015</td>\n",
       "      <td>ABML</td>\n",
       "      <td>current-price</td>\n",
       "      <td>gross-value-added-at-basic-prices</td>\n",
       "    </tr>\n",
       "    <tr>\n",
       "      <th>3</th>\n",
       "      <td>2043909</td>\n",
       "      <td>2015</td>\n",
       "      <td>ABMI</td>\n",
       "      <td>current-price</td>\n",
       "      <td>gross-domestic-product-at-market-prices</td>\n",
       "    </tr>\n",
       "    <tr>\n",
       "      <th>4</th>\n",
       "      <td>221355</td>\n",
       "      <td>2015</td>\n",
       "      <td>NTAO</td>\n",
       "      <td>chained-volume-measure</td>\n",
       "      <td>less-basic-price-adjustment</td>\n",
       "    </tr>\n",
       "  </tbody>\n",
       "</table>\n",
       "</div>"
      ],
      "text/plain": [
       "     Value Period  CDID           Estimate Type  \\\n",
       "0  1919641   2015  YBHA           current-price   \n",
       "1   207569   2015  NTAP           current-price   \n",
       "2  1712072   2015  ABML           current-price   \n",
       "3  2043909   2015  ABMI           current-price   \n",
       "4   221355   2015  NTAO  chained-volume-measure   \n",
       "\n",
       "                                 Aggregate  \n",
       "0  gross-domestic-product-at-market-prices  \n",
       "1              less-basic-price-adjustment  \n",
       "2        gross-value-added-at-basic-prices  \n",
       "3  gross-domestic-product-at-market-prices  \n",
       "4              less-basic-price-adjustment  "
      ]
     },
     "execution_count": 2,
     "metadata": {},
     "output_type": "execute_result"
    }
   ],
   "source": [
    "# Pull in example data\n",
    "example_data_one = pd.read_csv('example_data_one.csv')\n",
    "example_data_one.head(5)"
   ]
  },
  {
   "cell_type": "code",
   "execution_count": 3,
   "metadata": {},
   "outputs": [
    {
     "data": {
      "text/html": [
       "<div>\n",
       "<style scoped>\n",
       "    .dataframe tbody tr th:only-of-type {\n",
       "        vertical-align: middle;\n",
       "    }\n",
       "\n",
       "    .dataframe tbody tr th {\n",
       "        vertical-align: top;\n",
       "    }\n",
       "\n",
       "    .dataframe thead th {\n",
       "        text-align: right;\n",
       "    }\n",
       "</style>\n",
       "<table border=\"1\" class=\"dataframe\">\n",
       "  <thead>\n",
       "    <tr style=\"text-align: right;\">\n",
       "      <th></th>\n",
       "      <th>Value</th>\n",
       "      <th>Period</th>\n",
       "      <th>CDID</th>\n",
       "      <th>Weights 2018</th>\n",
       "      <th>Sector</th>\n",
       "      <th>Industry</th>\n",
       "    </tr>\n",
       "  </thead>\n",
       "  <tbody>\n",
       "    <tr>\n",
       "      <th>0</th>\n",
       "      <td>103</td>\n",
       "      <td>2015</td>\n",
       "      <td>L2KL</td>\n",
       "      <td>6.0</td>\n",
       "      <td>agriculture</td>\n",
       "      <td>agriculture-forestry-fishing</td>\n",
       "    </tr>\n",
       "    <tr>\n",
       "      <th>1</th>\n",
       "      <td>96</td>\n",
       "      <td>2015</td>\n",
       "      <td>L2KR</td>\n",
       "      <td>11.0</td>\n",
       "      <td>production</td>\n",
       "      <td>mining-quarrying-including-oil-and-gas-extraction</td>\n",
       "    </tr>\n",
       "    <tr>\n",
       "      <th>2</th>\n",
       "      <td>96</td>\n",
       "      <td>2015</td>\n",
       "      <td>L2KX</td>\n",
       "      <td>101.0</td>\n",
       "      <td>production</td>\n",
       "      <td>manufacturing</td>\n",
       "    </tr>\n",
       "    <tr>\n",
       "      <th>3</th>\n",
       "      <td>99</td>\n",
       "      <td>2015</td>\n",
       "      <td>L2MW</td>\n",
       "      <td>14.0</td>\n",
       "      <td>production</td>\n",
       "      <td>electricity-gas-steam-and-air</td>\n",
       "    </tr>\n",
       "    <tr>\n",
       "      <th>4</th>\n",
       "      <td>93</td>\n",
       "      <td>2015</td>\n",
       "      <td>L2N2</td>\n",
       "      <td>13.0</td>\n",
       "      <td>production</td>\n",
       "      <td>water-supply-sewerage-etc</td>\n",
       "    </tr>\n",
       "  </tbody>\n",
       "</table>\n",
       "</div>"
      ],
      "text/plain": [
       "   Value Period  CDID  Weights 2018       Sector  \\\n",
       "0    103   2015  L2KL           6.0  agriculture   \n",
       "1     96   2015  L2KR          11.0   production   \n",
       "2     96   2015  L2KX         101.0   production   \n",
       "3     99   2015  L2MW          14.0   production   \n",
       "4     93   2015  L2N2          13.0   production   \n",
       "\n",
       "                                            Industry  \n",
       "0                       agriculture-forestry-fishing  \n",
       "1  mining-quarrying-including-oil-and-gas-extraction  \n",
       "2                                      manufacturing  \n",
       "3                      electricity-gas-steam-and-air  \n",
       "4                          water-supply-sewerage-etc  "
      ]
     },
     "execution_count": 3,
     "metadata": {},
     "output_type": "execute_result"
    }
   ],
   "source": [
    "# Pull in example data\n",
    "example_data_two = pd.read_csv('example_data_two.csv')\n",
    "example_data_two.head(5)"
   ]
  },
  {
   "cell_type": "code",
   "execution_count": 4,
   "metadata": {},
   "outputs": [],
   "source": [
    "# METHOD ONE\n",
    "#help('dmtools.display_dataset_unique_values')"
   ]
  },
  {
   "cell_type": "code",
   "execution_count": 5,
   "metadata": {},
   "outputs": [
    {
     "name": "stdout",
     "output_type": "stream",
     "text": [
      "Number of rows: 40\n",
      "Number of columns: 5\n",
      "Column names: \n",
      "Index(['Value', 'Period', 'CDID', 'Estimate Type', 'Aggregate'], dtype='object')\n"
     ]
    },
    {
     "data": {
      "text/plain": [
       "'=================================================================================='"
      ]
     },
     "metadata": {},
     "output_type": "display_data"
    },
    {
     "data": {
      "text/plain": [
       "'Period'"
      ]
     },
     "metadata": {},
     "output_type": "display_data"
    },
    {
     "data": {
      "text/plain": [
       "['2015', '2015 Q1', '2015 Q2', '2015 Q3', '2015 Q4']"
      ]
     },
     "metadata": {},
     "output_type": "display_data"
    },
    {
     "data": {
      "text/plain": [
       "'=================================================================================='"
      ]
     },
     "metadata": {},
     "output_type": "display_data"
    },
    {
     "data": {
      "text/plain": [
       "'CDID'"
      ]
     },
     "metadata": {},
     "output_type": "display_data"
    },
    {
     "data": {
      "text/plain": [
       "['ABMI', 'ABML', 'ABMM', 'KLS2', 'NTAO', 'NTAP', 'YBHA']"
      ]
     },
     "metadata": {},
     "output_type": "display_data"
    },
    {
     "data": {
      "text/plain": [
       "'=================================================================================='"
      ]
     },
     "metadata": {},
     "output_type": "display_data"
    },
    {
     "data": {
      "text/plain": [
       "'Estimate Type'"
      ]
     },
     "metadata": {},
     "output_type": "display_data"
    },
    {
     "data": {
      "text/plain": [
       "['basic-prices', 'chained-volume-measure', 'current-price']"
      ]
     },
     "metadata": {},
     "output_type": "display_data"
    },
    {
     "data": {
      "text/plain": [
       "'=================================================================================='"
      ]
     },
     "metadata": {},
     "output_type": "display_data"
    },
    {
     "data": {
      "text/plain": [
       "'Aggregate'"
      ]
     },
     "metadata": {},
     "output_type": "display_data"
    },
    {
     "data": {
      "text/plain": [
       "['gross-domestic-product-at-market-prices',\n",
       " 'gross-value-added-at-basic-prices',\n",
       " 'gross-value-added-excluding-oil-gas',\n",
       " 'less-basic-price-adjustment']"
      ]
     },
     "metadata": {},
     "output_type": "display_data"
    },
    {
     "data": {
      "text/plain": [
       "'=================================================================================='"
      ]
     },
     "metadata": {},
     "output_type": "display_data"
    }
   ],
   "source": [
    "# Display unique values within each column (dimension), except the Value column\n",
    "dm.display_dataset_unique_values(example_data_one)"
   ]
  },
  {
   "cell_type": "code",
   "execution_count": null,
   "metadata": {},
   "outputs": [],
   "source": [
    "# METHOD TWO\n",
    "#help('dmtools.search_codelists_for_codes')"
   ]
  },
  {
   "cell_type": "code",
   "execution_count": 6,
   "metadata": {},
   "outputs": [
    {
     "name": "stdout",
     "output_type": "stream",
     "text": [
      "Search Directory: codelists/\n",
      "\n",
      "Dimension: Aggregate\n",
      "==================================================================================\n",
      "==================================================================================\n",
      "Outputting File: aggregate-codelist-folder-search.csv with 7 rows\n",
      "In Folder: aggregate-codelist-analysis\n",
      "==================================================================================\n",
      "Outputting File: aggregate-codelist-folder-search-percentage-split.csv with 7 rows\n",
      "In Folder: aggregate-codelist-analysis\n",
      "==================================================================================\n",
      "Best matched file: national-accounts-aggregate.csv\n"
     ]
    }
   ],
   "source": [
    "# Takes a unique list of codes and checks to see if they are in any codelist csv files, codelist folder address passed\n",
    "dimension = 'Aggregate'                                           # Column you want to look at\n",
    "codes = example_data_one[dimension].unique()                      # The unique set of values within the column\n",
    "fldrpth = 'codelists/'                                            # Path to the codelist folder, eg: 'users/leigh/development/family-trade/reference/codelists/'\n",
    "colnme = 'Notation'                                               # Which column of each codelist to compare to\n",
    "flenme = dm.search_codelists_for_codes(codes, fldrpth, colnme, dimension)\n",
    "print('Best matched file: ' + flenme)"
   ]
  },
  {
   "cell_type": "code",
   "execution_count": null,
   "metadata": {},
   "outputs": [],
   "source": [
    "# METHOD THREE\n",
    "#help('dmtools.check_all_codes_in_codelist')"
   ]
  },
  {
   "cell_type": "code",
   "execution_count": 7,
   "metadata": {},
   "outputs": [
    {
     "name": "stdout",
     "output_type": "stream",
     "text": [
      "Search File: codelists/national-accounts-estimate-type.csv\n",
      "\n",
      "==================================================================================\n",
      "Outputting File: estimatetype-codelist-search.csv with 3 rows\n",
      "In Folder: estimatetype-codelist-analysis\n",
      "==================================================================================\n"
     ]
    }
   ],
   "source": [
    "# Takes a unique list of codes and checks to see if they are in a particular codelist csv files, make sure to pass the path to the actual csv file\n",
    "# If a file has been output it returns the path and name for use in the next method\n",
    "dimension = 'Estimate Type'                                       # Column you want to look at\n",
    "codes = example_data_one[dimension].unique()                      # The unique set of values within the column\n",
    "filepth = 'codelists/national-accounts-estimate-type.csv'         # Path to the codelist file\n",
    "colnme = 'Notation'                                               # Which column of each codelist to compare to\n",
    "outputfoundcodes = True                                           # Output all results (True) or just found codes (False)\n",
    "filename = dm.check_all_codes_in_codelist(codes, filepth, colnme, dimension, outputfoundcodes)"
   ]
  },
  {
   "cell_type": "code",
   "execution_count": 8,
   "metadata": {},
   "outputs": [],
   "source": [
    "# METHOD FOUR\n",
    "#help('dmtools.add_missing_codes_to_codelist')"
   ]
  },
  {
   "cell_type": "code",
   "execution_count": 9,
   "metadata": {},
   "outputs": [
    {
     "data": {
      "text/html": [
       "<div>\n",
       "<style scoped>\n",
       "    .dataframe tbody tr th:only-of-type {\n",
       "        vertical-align: middle;\n",
       "    }\n",
       "\n",
       "    .dataframe tbody tr th {\n",
       "        vertical-align: top;\n",
       "    }\n",
       "\n",
       "    .dataframe thead th {\n",
       "        text-align: right;\n",
       "    }\n",
       "</style>\n",
       "<table border=\"1\" class=\"dataframe\">\n",
       "  <thead>\n",
       "    <tr style=\"text-align: right;\">\n",
       "      <th></th>\n",
       "      <th>Label</th>\n",
       "      <th>Notation</th>\n",
       "      <th>Parent Notation</th>\n",
       "      <th>Sort Priority</th>\n",
       "    </tr>\n",
       "  </thead>\n",
       "  <tbody>\n",
       "    <tr>\n",
       "      <th>0</th>\n",
       "      <td>Current price</td>\n",
       "      <td>current-price</td>\n",
       "      <td>NaN</td>\n",
       "      <td>1</td>\n",
       "    </tr>\n",
       "    <tr>\n",
       "      <th>1</th>\n",
       "      <td>Chained Volume Measure</td>\n",
       "      <td>chained-volume-measure</td>\n",
       "      <td>NaN</td>\n",
       "      <td>2</td>\n",
       "    </tr>\n",
       "    <tr>\n",
       "      <th>2</th>\n",
       "      <td>Deflator</td>\n",
       "      <td>deflator</td>\n",
       "      <td>NaN</td>\n",
       "      <td>3</td>\n",
       "    </tr>\n",
       "    <tr>\n",
       "      <th>3</th>\n",
       "      <td>People</td>\n",
       "      <td>people</td>\n",
       "      <td>NaN</td>\n",
       "      <td>4</td>\n",
       "    </tr>\n",
       "  </tbody>\n",
       "</table>\n",
       "</div>"
      ],
      "text/plain": [
       "                    Label                Notation  Parent Notation  \\\n",
       "0           Current price           current-price              NaN   \n",
       "1  Chained Volume Measure  chained-volume-measure              NaN   \n",
       "2                Deflator                deflator              NaN   \n",
       "3                  People                  people              NaN   \n",
       "\n",
       "   Sort Priority  \n",
       "0              1  \n",
       "1              2  \n",
       "2              3  \n",
       "3              4  "
      ]
     },
     "execution_count": 9,
     "metadata": {},
     "output_type": "execute_result"
    }
   ],
   "source": [
    "# Codes in codelist before adding missing ones\n",
    "cdelst = pd.read_csv(filepth)\n",
    "cdelst.head(10)"
   ]
  },
  {
   "cell_type": "code",
   "execution_count": 10,
   "metadata": {},
   "outputs": [
    {
     "name": "stdout",
     "output_type": "stream",
     "text": [
      "Missing codes: 1\n",
      "New codes have been added to file: \n",
      "codelists/national-accounts-estimate-type.csv\n"
     ]
    },
    {
     "name": "stderr",
     "output_type": "stream",
     "text": [
      "/Users/leigh/anaconda3/lib/python3.7/site-packages/dmtools/__init__.py:310: FutureWarning: Sorting because non-concatenation axis is not aligned. A future version\n",
      "of pandas will change to not sort by default.\n",
      "\n",
      "To accept the future behavior, pass 'sort=False'.\n",
      "\n",
      "To retain the current behavior and silence the warning, pass 'sort=True'.\n",
      "\n",
      "  newcodelist = pd.concat([codelist, missingcodes])\n"
     ]
    },
    {
     "data": {
      "text/html": [
       "<div>\n",
       "<style scoped>\n",
       "    .dataframe tbody tr th:only-of-type {\n",
       "        vertical-align: middle;\n",
       "    }\n",
       "\n",
       "    .dataframe tbody tr th {\n",
       "        vertical-align: top;\n",
       "    }\n",
       "\n",
       "    .dataframe thead th {\n",
       "        text-align: right;\n",
       "    }\n",
       "</style>\n",
       "<table border=\"1\" class=\"dataframe\">\n",
       "  <thead>\n",
       "    <tr style=\"text-align: right;\">\n",
       "      <th></th>\n",
       "      <th>Label</th>\n",
       "      <th>Notation</th>\n",
       "      <th>Parent Notation</th>\n",
       "      <th>Sort Priority</th>\n",
       "    </tr>\n",
       "  </thead>\n",
       "  <tbody>\n",
       "    <tr>\n",
       "      <th>0</th>\n",
       "      <td>Current price</td>\n",
       "      <td>current-price</td>\n",
       "      <td>NaN</td>\n",
       "      <td>1</td>\n",
       "    </tr>\n",
       "    <tr>\n",
       "      <th>1</th>\n",
       "      <td>Chained Volume Measure</td>\n",
       "      <td>chained-volume-measure</td>\n",
       "      <td>NaN</td>\n",
       "      <td>2</td>\n",
       "    </tr>\n",
       "    <tr>\n",
       "      <th>2</th>\n",
       "      <td>Deflator</td>\n",
       "      <td>deflator</td>\n",
       "      <td>NaN</td>\n",
       "      <td>3</td>\n",
       "    </tr>\n",
       "    <tr>\n",
       "      <th>3</th>\n",
       "      <td>People</td>\n",
       "      <td>people</td>\n",
       "      <td>NaN</td>\n",
       "      <td>4</td>\n",
       "    </tr>\n",
       "    <tr>\n",
       "      <th>4</th>\n",
       "      <td>Basic prices</td>\n",
       "      <td>basic-prices</td>\n",
       "      <td>NaN</td>\n",
       "      <td>5</td>\n",
       "    </tr>\n",
       "  </tbody>\n",
       "</table>\n",
       "</div>"
      ],
      "text/plain": [
       "                    Label                Notation  Parent Notation  \\\n",
       "0           Current price           current-price              NaN   \n",
       "1  Chained Volume Measure  chained-volume-measure              NaN   \n",
       "2                Deflator                deflator              NaN   \n",
       "3                  People                  people              NaN   \n",
       "4            Basic prices            basic-prices              NaN   \n",
       "\n",
       "   Sort Priority  \n",
       "0              1  \n",
       "1              2  \n",
       "2              3  \n",
       "3              4  \n",
       "4              5  "
      ]
     },
     "execution_count": 10,
     "metadata": {},
     "output_type": "execute_result"
    }
   ],
   "source": [
    "# If missing codes have been found in the previous method you can add them to the codelist (from the file) \n",
    "# using this method. Sort Priority id reconfigured, everything else is left as is.\n",
    "# It does check to see if it has already been added.\n",
    "dm.add_missing_codes_to_codelist(filename, filepth)\n",
    "# Codes in codelist after adding missing ones\n",
    "cdelst = pd.read_csv(filepth)\n",
    "cdelst.head(10)"
   ]
  },
  {
   "cell_type": "code",
   "execution_count": 11,
   "metadata": {},
   "outputs": [],
   "source": [
    "# METHOD FIVE\n",
    "#help('dmtools.search_for_codes_using_levenshtein_and_fuzzywuzzy')"
   ]
  },
  {
   "cell_type": "code",
   "execution_count": 13,
   "metadata": {},
   "outputs": [
    {
     "name": "stdout",
     "output_type": "stream",
     "text": [
      "==================================================================================\n",
      "Searching in Codelist Directory: codelists/\n",
      "in Column: Notation\n",
      "Levenshtein Distance set to : 3\n",
      "Levenshtein Ratio set to : 0.8\n",
      "FuzzyWuzzy Ratio set to : 80.0\n",
      "==================================================================================\n",
      "==================================================================================\n",
      "Outputting File: sector-dimension-levenshtein-fuzzy.csv with 20 rows\n",
      "In Folder: sector-codelist-analysis\n",
      "==================================================================================\n"
     ]
    }
   ],
   "source": [
    "dimension = 'Sector'\n",
    "codes = example_data_two[dimension].unique()\n",
    "pth = 'codelists/'\n",
    "colnme = 'Notation'\n",
    "setDistance = 3\n",
    "setRatio = 0.8\n",
    "dm.search_for_codes_using_levenshtein_and_fuzzywuzzy(codes, pth, colnme, dimension, setDistance, setRatio)"
   ]
  },
  {
   "cell_type": "code",
   "execution_count": null,
   "metadata": {},
   "outputs": [],
   "source": [
    "# METHOD SIX\n",
    "#help('dmtools.search_codes_in_codelists_and_then_search_highest_scoring_codelist_file')"
   ]
  },
  {
   "cell_type": "code",
   "execution_count": null,
   "metadata": {},
   "outputs": [],
   "source": [
    "# Combines 2 other methods: search_codelists_for_codes & check_all_codes_in_codelist\n",
    "dimension = 'Estimate Type'                                       # Column you want to look at\n",
    "codes = example_data_one[dimension].unique()                      # The unique set of values within the column\n",
    "filepth = 'codelists/'                                            # Path to the codeliss file\n",
    "colnme = 'Notation'                                               # Which column of each codelist to compare to\n",
    "outputfoundcodes = True \n",
    "dm.search_codes_in_codelists_and_then_search_highest_scoring_codelist_file(codes, filepth, colnme, dimension, outputfoundcodes)"
   ]
  },
  {
   "cell_type": "code",
   "execution_count": null,
   "metadata": {},
   "outputs": [],
   "source": [
    "##########===============###########============###########=============############===========############"
   ]
  },
  {
   "cell_type": "code",
   "execution_count": null,
   "metadata": {},
   "outputs": [],
   "source": [
    "#pip install --upgrade git+https://github.com/GSS-Cogs/dm_tools"
   ]
  },
  {
   "cell_type": "code",
   "execution_count": null,
   "metadata": {},
   "outputs": [],
   "source": [
    "#pip uninstall dmtools --yes "
   ]
  },
  {
   "cell_type": "code",
   "execution_count": 66,
   "metadata": {},
   "outputs": [],
   "source": [
    "import Levenshtein as lev\n",
    "import fuzzywuzzy as fuzz\n",
    "from fuzzywuzzy import process"
   ]
  },
  {
   "cell_type": "code",
   "execution_count": 84,
   "metadata": {},
   "outputs": [
    {
     "name": "stdout",
     "output_type": "stream",
     "text": [
      "----------------------------------------------------------------------\n",
      "Levenshtein:\n",
      "You need to make 1 edit(s) for the strings to be the same.\n",
      "Distance Ratio: 0.9696969696969697\n",
      "----------------------------------------------------------------------\n",
      "FuzzyWuzzy also has a funtion for Levenshteins Distance Ratio\n",
      "Distance Ratio: 97\n",
      "----------------------------------------------------------------------\n"
     ]
    }
   ],
   "source": [
    "\"\"\"\n",
    "Levenshtein Distance\n",
    "\n",
    "Metric to measure how far apart are two sequences of word.\n",
    "Measures the minimum number of edits that you need to do to change one string into the other\n",
    "Upper/Lower case affects things\n",
    "\"\"\"\n",
    "\n",
    "print(\"----------------------------------------------------------------------\")\n",
    "print(\"Levenshtein:\")\n",
    "str1 = \"IDP COGS Project\"\n",
    "str2 = \"IDP cogs Project.\"    # cogs lowercase and added full stop\n",
    "# Have set strings to lowercase beforehand #\n",
    "distance = lev.distance(str1.lower(),str2.lower())\n",
    "print(\"You need to make \" + str(distance) + \" edit(s) for the strings to be the same.\")\n",
    "ratio = lev.ratio(str1.lower(),str2.lower())\n",
    "print(\"Distance Ratio: \" + str(ratio))\n",
    "print(\"----------------------------------------------------------------------\")\n",
    "print(\"FuzzyWuzzy also has a funtion for Levenshteins Distance Ratio\")\n",
    "from fuzzywuzzy import fuzz\n",
    "Ratio = fuzz.ratio(str1.lower(),str2.lower())\n",
    "print(\"Distance Ratio: \" + str(Ratio))\n",
    "print(\"----------------------------------------------------------------------\")"
   ]
  },
  {
   "cell_type": "code",
   "execution_count": 68,
   "metadata": {},
   "outputs": [
    {
     "name": "stdout",
     "output_type": "stream",
     "text": [
      "FuzzyWuzzy:\n",
      "Partial Distance ratio: 100\n",
      "==\n",
      "Levenshteins Distance Ratio: 56\n"
     ]
    }
   ],
   "source": [
    "\"\"\"\n",
    "FuzzyWuzzy\n",
    "\n",
    "Partial Ratio\n",
    "\n",
    "Takes the shortest string and matches it with all sub-strings of the same or longer length in the longer string.\n",
    "\"optimal partial\" logic\n",
    "Can be used to check if a string has a particular string within it\n",
    "Upper/Lower case affects the results\n",
    "\"\"\"\n",
    "str1 = \"Data Managers rule\"\n",
    "str2 = \"manager\"\n",
    "# Have set strings to lower case so capital M does not effect things (just as an example)\n",
    "partialRatio = fuzz.partial_ratio(str1.lower(),str2.lower())\n",
    "\n",
    "ratio = fuzz.ratio(str1.lower(),str2.lower())\n",
    "\n",
    "print(\"FuzzyWuzzy:\")\n",
    "print(\"Partial Distance ratio: \" + str(partialRatio))\n",
    "# The string 'Manager' has been found in the larger string giving 100% result\n",
    "print(\"==\")\n",
    "print(\"FuzzyWuzzy Distance Ratio: \" + str(ratio))"
   ]
  },
  {
   "cell_type": "code",
   "execution_count": 86,
   "metadata": {},
   "outputs": [
    {
     "name": "stdout",
     "output_type": "stream",
     "text": [
      "FuzzyWuzzy:\n",
      "Token Sort Ratio: 100\n",
      "==\n",
      "FuzzyWuzzy Distance Ratio: 79\n",
      "FuzzyWuzzy Partial Distance ratio: 88\n"
     ]
    }
   ],
   "source": [
    "\"\"\"\n",
    "FuzzyWuzzy\n",
    "\n",
    "Token Sort Ratio\n",
    "\n",
    "Tokenise the strings: change to lower case and remove punctuation\n",
    "Then sorts alphabetically and joins together then calculates the fuzz.ratio()\n",
    "\n",
    "Handy for when strings have the same spelling but are not in the same order\n",
    "\"\"\"\n",
    "str1 = \"Integrated Data Platform\"\n",
    "str2 = \"Data Integrated Platform\"\n",
    "tokenSortRatio = fuzz.token_sort_ratio(str1.lower(),str2.lower())\n",
    "\n",
    "ratio = fuzz.ratio(str1.lower(),str2.lower())\n",
    "partialRatio = fuzz.partial_ratio(str1.lower(),str2.lower())\n",
    "\n",
    "print(\"FuzzyWuzzy:\")\n",
    "print(\"Token Sort Ratio: \" + str(tokenSortRatio))\n",
    "print(\"==\")\n",
    "print(\"FuzzyWuzzy Distance Ratio: \" + str(ratio))\n",
    "print(\"FuzzyWuzzy Partial Distance ratio: \" + str(partialRatio))"
   ]
  },
  {
   "cell_type": "code",
   "execution_count": 88,
   "metadata": {},
   "outputs": [
    {
     "name": "stdout",
     "output_type": "stream",
     "text": [
      "FuzzyWuzzy:\n",
      "Token Set Ratio: 100\n",
      "==\n",
      "FuzzyWuzzy Distance Ratio: 57\n",
      "FuzzyWuzzy Partial Distance ratio: 100\n",
      "FuzzyWuzzy Token Sort Ratio: 57\n"
     ]
    }
   ],
   "source": [
    "\"\"\"\n",
    "FuzzyWuzzy\n",
    "\n",
    "Token Set Ratio\n",
    "\n",
    "Similar to Token Sort Ratio except it takes out the common strings before calculating the fuzz.ratio() \n",
    "between the new strings.\n",
    "\"\"\"\n",
    "\n",
    "str1 = \"The head of COGS is Darren Barnes\"\n",
    "str2 = \"Darren Barnes\"\n",
    "#Strings have been changed to lowercase for ratio and partial_ratio methods\n",
    "tokenSetRatio = fuzz.token_set_ratio(str1.lower(),str2.lower())\n",
    "\n",
    "ratio = fuzz.ratio(str1.lower(),str2.lower())\n",
    "partialRatio = fuzz.partial_ratio(str1.lower(),str2.lower())\n",
    "tokenSortRatio = fuzz.token_sort_ratio(str1,str2)\n",
    "\n",
    "print(\"FuzzyWuzzy:\")\n",
    "print(\"Token Set Ratio: \" + str(tokenSetRatio))\n",
    "print(\"==\")\n",
    "print(\"FuzzyWuzzy Distance Ratio: \" + str(ratio))\n",
    "print(\"FuzzyWuzzy Partial Distance ratio: \" + str(partialRatio))\n",
    "print(\"FuzzyWuzzy Token Sort Ratio: \" + str(tokenSortRatio))"
   ]
  },
  {
   "cell_type": "code",
   "execution_count": 95,
   "metadata": {},
   "outputs": [
    {
     "name": "stdout",
     "output_type": "stream",
     "text": [
      "Result from Token Set Ratio: 92\n",
      "=== Breakdown\n",
      "Sorted Intersection Vs Rest of string 1: 91\n",
      "Sorted Intersection Vs Rest of string 2: 47\n",
      "Rest of string 1 Vs Rest of string 2: 51\n"
     ]
    }
   ],
   "source": [
    "# How it works\n",
    "str1 = \"mariners vs angels\"\n",
    "str2 = \"los angeles angels of anaheim at seattle mariners\"\n",
    "# Same strings are angels & mariners\n",
    "\n",
    "t0 = \"angels mariners\"                                   #t0 = [Sorted Intersetion]\n",
    "t1 = \"angels mariners vs\"                                #t1 = [Sorted Intersection] + [Sorted rest of Str1]\n",
    "t2 = \"angels mariners anaheim angeles at los of seattle\" #t2 = [Sorted Intersection] + [Sorted rest of Str2]\n",
    "\n",
    "print(\"Result from Token Set Ratio: \" + str(fuzz.token_set_ratio(str1, str2)))\n",
    "print(\"=== Breakdown\")\n",
    "print(\"Sorted Intersection Vs Rest of string 1: \" + str(fuzz.ratio(t0, t1)))\n",
    "print(\"Sorted Intersection Vs Rest of string 2: \" + str(fuzz.ratio(t0, t2)))\n",
    "print(\"Rest of string 1 Vs Rest of string 2: \" + str(fuzz.ratio(t1, t2)))"
   ]
  },
  {
   "cell_type": "code",
   "execution_count": 75,
   "metadata": {},
   "outputs": [
    {
     "data": {
      "text/plain": [
       "[(\"Men's 3000 meter steeplechase\", 100),\n",
       " ('mens 3000 meter SteepleChase', 95),\n",
       " ('3000m STEEPLECHASE MENS', 85),\n",
       " ('3000m Steeplechase', 77)]"
      ]
     },
     "execution_count": 75,
     "metadata": {},
     "output_type": "execute_result"
    }
   ],
   "source": [
    "# You can also pass a number of strings to compare against and output all results\n",
    "choices = [\"3000m Steeplechase\", \"Men's 3000 meter steeplechase\",\"3000m STEEPLECHASE MENS\", \"mens 3000 meter SteepleChase\"]  \n",
    "process.extract(\"Men's 3000 Meter Steeplechase\", choices, scorer=fuzz.token_sort_ratio)"
   ]
  },
  {
   "cell_type": "code",
   "execution_count": 94,
   "metadata": {},
   "outputs": [
    {
     "data": {
      "text/plain": [
       "(\"Men's 3000 meter steeplechase\", 100)"
      ]
     },
     "execution_count": 94,
     "metadata": {},
     "output_type": "execute_result"
    }
   ],
   "source": [
    "# You can also pass a number of strings to compare against and output the best result\n",
    "process.extractOne(\"Men's 3000 Meter Steeplechase\", choices, scorer=fuzz.token_sort_ratio)"
   ]
  },
  {
   "cell_type": "code",
   "execution_count": null,
   "metadata": {},
   "outputs": [],
   "source": [
    "#\n",
    "# https://www.datacamp.com/community/tutorials/fuzzy-string-python\n",
    "# https://www.datacamp.com/community/tutorials/fuzzy-string-python\n",
    "# https://chairnerd.seatgeek.com/fuzzywuzzy-fuzzy-string-matching-in-python/"
   ]
  }
 ],
 "metadata": {
  "kernelspec": {
   "display_name": "Python 3",
   "language": "python",
   "name": "python3"
  },
  "language_info": {
   "codemirror_mode": {
    "name": "ipython",
    "version": 3
   },
   "file_extension": ".py",
   "mimetype": "text/x-python",
   "name": "python",
   "nbconvert_exporter": "python",
   "pygments_lexer": "ipython3",
   "version": "3.7.6"
  }
 },
 "nbformat": 4,
 "nbformat_minor": 2
}
